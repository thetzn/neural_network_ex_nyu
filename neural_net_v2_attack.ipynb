{
 "cells": [
  {
   "cell_type": "code",
   "execution_count": 223,
   "id": "5ebc5887",
   "metadata": {},
   "outputs": [],
   "source": [
    "import numpy\n",
    "#scipy.special for the sigmoid function expit()\n",
    "import scipy.special\n",
    "\n",
    "import matplotlib.pyplot\n",
    "%matplotlib inline"
   ]
  },
  {
   "cell_type": "code",
   "execution_count": 224,
   "id": "6db938bd",
   "metadata": {},
   "outputs": [],
   "source": [
    "#ok, let's attempt to attack the same model\n",
    "\n",
    "import csv\n",
    "import random\n",
    "\n",
    "# set the random seed for reproducibility\n",
    "random.seed(42)\n",
    "\n",
    "# read in the CSV file\n",
    "with open('/Users/timnelson/Desktop/mnist_dataset/mnist_test.csv', 'r') as infile:\n",
    "    reader = csv.reader(infile)\n",
    "    data = [row for row in reader]\n",
    "\n",
    "# add random noise to the data\n",
    "for i in range(len(data)):\n",
    "    for j in range(len(data[i])):\n",
    "        data[i][j] = float(data[i][j]) + random.uniform(-10, 10)\n",
    "\n",
    "# write the modified data to a new CSV file\n",
    "with open('desktop/mnist_dataset/mnist_test_noise.csv', 'w', newline='') as outfile:\n",
    "    writer = csv.writer(outfile)\n",
    "    writer.writerows(data)"
   ]
  },
  {
   "cell_type": "code",
   "execution_count": 225,
   "id": "5d7aba34",
   "metadata": {},
   "outputs": [],
   "source": [
    "#framework documentation\n",
    "#neural network class definition\n",
    "#class neuralNetwork:\n",
    "    #initialize the neural network\n",
    "    #def __init__():\n",
    "        #pass\n",
    "    #train the neural network\n",
    "    #def train():\n",
    "        #pass\n",
    "    #query the neural network\n",
    "    #def query():\n",
    "        #pass"
   ]
  },
  {
   "cell_type": "code",
   "execution_count": 226,
   "id": "fe1b50ca",
   "metadata": {},
   "outputs": [],
   "source": [
    "class neuralNetwork:\n",
    "    #initialize the neural network\n",
    "    def __init__(self, inputnodes, hiddennodes, outputnodes,\n",
    "              learningrate):\n",
    "        #set the number of nodes in each input, hidden, and output layer\n",
    "        self.inodes = inputnodes\n",
    "        self.hnodes = hiddennodes\n",
    "        self.onodes = outputnodes\n",
    "        \n",
    "        #link weight matrices, wih and who\n",
    "        #weights inside the arrays are w_i_j, where link is from node i to node j in the next layer\n",
    "        #w11 w21\n",
    "        #w12 w 22 etc\n",
    "        self.wih = numpy.random.normal(0.0, pow(self.inodes, -0.5), (self.hnodes, self.inodes))\n",
    "        self.who = numpy.random.normal(0.0, pow(self.hnodes, -0.5), (self.onodes, self.hnodes))\n",
    "        \n",
    "        #learning rate\n",
    "        self.lr = learningrate\n",
    "        \n",
    "        #activation function is the sigmoid function\n",
    "        self.activation_function = lambda x: scipy.special.expit(x)\n",
    "        \n",
    "        pass\n",
    "    \n",
    "    #train the neural network\n",
    "    def train(self, inputs_list, targets_list):\n",
    "        # convert inputs list to 2d array\n",
    "        inputs = numpy.array(inputs_list, ndmin=2).T\n",
    "        targets = numpy.array(targets_list, ndmin=2).T\n",
    "        \n",
    "        # calculate signals into hidden layer\n",
    "        hidden_inputs = numpy.dot(self.wih, inputs)\n",
    "        # calculate the signals emerging from hidden layer\n",
    "        hidden_outputs = self.activation_function(hidden_inputs)\n",
    "        \n",
    "        # calculate signals into final output layer\n",
    "        final_inputs = numpy.dot(self.who, hidden_outputs)\n",
    "        # calculate the signals emerging from final output layer\n",
    "        final_outputs = self.activation_function(final_inputs)\n",
    "        \n",
    "        # output layer error is the (target - actual)\n",
    "        output_errors = targets - final_outputs\n",
    "        # hidden layer error is the output_errors, split by weights, recombined at hidden nodes\n",
    "        hidden_errors = numpy.dot(self.who.T, output_errors) \n",
    "        \n",
    "        # update the weights for the links between the hidden and output layers\n",
    "        self.who += self.lr * numpy.dot((output_errors * final_outputs * (1.0 - final_outputs)), numpy.transpose(hidden_outputs))\n",
    "        \n",
    "        # update the weights for the links between the input and hidden layers\n",
    "        self.wih += self.lr * numpy.dot((hidden_errors * hidden_outputs * (1.0 - hidden_outputs)), numpy.transpose(inputs))\n",
    "        \n",
    "        pass\n",
    "    \n",
    "    #query the neural network - takes the input and returns the network's output\n",
    "    def query(self, inputs_list):\n",
    "        #convert inputs list to 2d array\n",
    "        inputs = numpy.array(inputs_list, ndmin=2).T\n",
    "        \n",
    "        #calculate signals into hidden layer\n",
    "        hidden_inputs = numpy.dot(self.wih, inputs)\n",
    "        #calculate signals emerging from hidden layer\n",
    "        hidden_outputs = self.activation_function(hidden_inputs)\n",
    "        \n",
    "        #calculate signals into final output layer\n",
    "        final_inputs = numpy.dot(self.who, hidden_outputs)\n",
    "        #calculate signals emerging from final output layer\n",
    "        final_outputs = self.activation_function(final_inputs)\n",
    "        \n",
    "        return final_outputs"
   ]
  },
  {
   "cell_type": "code",
   "execution_count": 227,
   "id": "f24e34dd",
   "metadata": {},
   "outputs": [],
   "source": [
    "# number of input, hidden and output nodes\n",
    "input_nodes = 784\n",
    "hidden_nodes = 200\n",
    "output_nodes = 50\n",
    "\n",
    "# learning rate\n",
    "learning_rate = 0.1\n",
    "\n",
    "# create instance of neural network\n",
    "n = neuralNetwork(input_nodes,hidden_nodes,output_nodes, learning_rate)"
   ]
  },
  {
   "cell_type": "code",
   "execution_count": 228,
   "id": "818df1a1",
   "metadata": {},
   "outputs": [],
   "source": [
    "#load MNIST training dataset\n",
    "training_data_file = open (\"desktop/mnist_dataset/mnist_train.csv\", 'r')\n",
    "training_data_list = training_data_file.readlines()\n",
    "training_data_file.close()"
   ]
  },
  {
   "cell_type": "code",
   "execution_count": 229,
   "id": "e84a6eaa",
   "metadata": {},
   "outputs": [],
   "source": [
    "# train the neural network\n",
    "epochs = 5\n",
    "\n",
    "for e in range(epochs):\n",
    "    # go through all records in the training data set\n",
    "    for record in training_data_list:\n",
    "        # split the record by the ',' commas\n",
    "        all_values = record.split(',')\n",
    "        # scale and shift the inputs\n",
    "        inputs = (numpy.asfarray(all_values[1:]) / 255.0 * 0.99) + 0.01\n",
    "        # create the target output values (all 0.01, except the desired label which is 0.99)\n",
    "        targets = numpy.zeros(output_nodes) + 0.01\n",
    "        # all_values[0] is the target label for this record\n",
    "        # modify the network to accept noise by rounding the label to the nearest integer before converting to an int value\n",
    "        target_label = int(round(float(all_values[0])))\n",
    "        targets[target_label] = 0.99\n",
    "        n.train(inputs, targets)\n",
    "        pass\n",
    "    pass"
   ]
  },
  {
   "cell_type": "code",
   "execution_count": 230,
   "id": "bc6011b5",
   "metadata": {},
   "outputs": [],
   "source": [
    "# load the MNIST test data\n",
    "test_data_file = open(\"desktop/mnist_dataset/mnist_test.csv\", 'r')\n",
    "test_data_list = test_data_file.readlines()\n",
    "test_data_file.close()"
   ]
  },
  {
   "cell_type": "code",
   "execution_count": 231,
   "id": "c05e4109",
   "metadata": {},
   "outputs": [
    {
     "name": "stdout",
     "output_type": "stream",
     "text": [
      "7\n"
     ]
    },
    {
     "data": {
      "text/plain": [
       "<matplotlib.image.AxesImage at 0x7fa47f60cb80>"
      ]
     },
     "execution_count": 231,
     "metadata": {},
     "output_type": "execute_result"
    },
    {
     "data": {
      "image/png": "[encoded data removed]",
      "text/plain": [
       "<Figure size 640x480 with 1 Axes>"
      ]
     },
     "metadata": {},
     "output_type": "display_data"
    }
   ],
   "source": [
    "#get the first test record from the standard training set\n",
    "all_values = test_data_list[0].split(',')\n",
    "print(all_values[0])\n",
    "image_array = numpy.asfarray(all_values[1:]).reshape((28,28))\n",
    "matplotlib.pyplot.imshow(image_array, cmap='Greys', interpolation='None')"
   ]
  },
  {
   "cell_type": "code",
   "execution_count": 232,
   "id": "9e0d95c9",
   "metadata": {},
   "outputs": [
    {
     "data": {
      "text/plain": [
       "array([[8.94310181e-03],\n",
       "       [1.73069580e-03],\n",
       "       [2.49569414e-03],\n",
       "       [1.73598560e-03],\n",
       "       [6.74818534e-04],\n",
       "       [4.56905550e-03],\n",
       "       [2.97005873e-03],\n",
       "       [9.70547725e-01],\n",
       "       [1.62950143e-02],\n",
       "       [2.42850546e-03],\n",
       "       [7.78784591e-03],\n",
       "       [1.02892452e-02],\n",
       "       [8.77925322e-03],\n",
       "       [9.63441044e-03],\n",
       "       [9.31144194e-03],\n",
       "       [9.70910735e-03],\n",
       "       [1.02481470e-02],\n",
       "       [8.92806903e-03],\n",
       "       [9.34325475e-03],\n",
       "       [1.10657335e-02],\n",
       "       [6.65637964e-03],\n",
       "       [8.27153083e-03],\n",
       "       [8.57689208e-03],\n",
       "       [9.32145588e-03],\n",
       "       [9.51256570e-03],\n",
       "       [9.73639078e-03],\n",
       "       [9.37327558e-03],\n",
       "       [1.04849684e-02],\n",
       "       [8.93644629e-03],\n",
       "       [1.05165852e-02],\n",
       "       [1.06472984e-02],\n",
       "       [9.47575119e-03],\n",
       "       [9.91824702e-03],\n",
       "       [9.16345077e-03],\n",
       "       [8.67722428e-03],\n",
       "       [8.87825417e-03],\n",
       "       [1.02007572e-02],\n",
       "       [8.76005443e-03],\n",
       "       [9.78798341e-03],\n",
       "       [1.04620468e-02],\n",
       "       [9.59522002e-03],\n",
       "       [8.96106273e-03],\n",
       "       [9.52051235e-03],\n",
       "       [9.68727933e-03],\n",
       "       [1.02943549e-02],\n",
       "       [9.47466860e-03],\n",
       "       [9.41518954e-03],\n",
       "       [1.05415079e-02],\n",
       "       [8.65518381e-03],\n",
       "       [9.04707946e-03]])"
      ]
     },
     "execution_count": 232,
     "metadata": {},
     "output_type": "execute_result"
    }
   ],
   "source": [
    "n.query((numpy.asfarray(all_values[1:]) / 255.0 *0.99) +0.01)"
   ]
  },
  {
   "cell_type": "code",
   "execution_count": 233,
   "id": "50ce9f09",
   "metadata": {},
   "outputs": [],
   "source": [
    "# test the neural network\n",
    "\n",
    "# scorecard for how well the network performs, initially empty\n",
    "scorecard = []\n",
    "\n",
    "# go through all the records in the test data set\n",
    "for record in test_data_list:\n",
    "    # split the record by the ',' commas\n",
    "    all_values = record.split(',')\n",
    "    # correct answer is first value\n",
    "    correct_label = int(round(float(all_values[0])))\n",
    "    # scale and shift the inputs\n",
    "    inputs = (numpy.asfarray(all_values[1:]) / 255.0 * 0.99) + 0.01\n",
    "    # query the network\n",
    "    outputs = n.query(inputs)\n",
    "    # the index of the highest value corresponds to the label\n",
    "    label = numpy.argmax(outputs)\n",
    "    # append correct or incorrect to list\n",
    "    if (label == correct_label):\n",
    "        # network's answer matches correct answer, add 1 to scorecard\n",
    "        scorecard.append(1)\n",
    "    else:\n",
    "        # network answer doesn't match correct answer, add 0 to scorecard\n",
    "        scorecard.append(0)\n",
    "        pass\n",
    "    \n",
    "    pass"
   ]
  },
  {
   "cell_type": "code",
   "execution_count": 234,
   "id": "2ae99bc8",
   "metadata": {},
   "outputs": [
    {
     "name": "stdout",
     "output_type": "stream",
     "text": [
      "performance =  0.9708\n"
     ]
    }
   ],
   "source": [
    "# calculate the performance score, the fraction of correct answers\n",
    "scorecard_array = numpy.asarray(scorecard)\n",
    "print (\"performance = \", scorecard_array.sum() / scorecard_array.size)"
   ]
  },
  {
   "cell_type": "code",
   "execution_count": 235,
   "id": "2557d79c",
   "metadata": {},
   "outputs": [
    {
     "name": "stdout",
     "output_type": "stream",
     "text": [
      "9.788535969157675\n"
     ]
    },
    {
     "data": {
      "text/plain": [
       "<matplotlib.image.AxesImage at 0x7fa47d7c0610>"
      ]
     },
     "execution_count": 235,
     "metadata": {},
     "output_type": "execute_result"
    },
    {
     "data": {
      "image/png": "[encoded data removed]",
      "text/plain": [
       "<Figure size 640x480 with 1 Axes>"
      ]
     },
     "metadata": {},
     "output_type": "display_data"
    }
   ],
   "source": [
    "# load the MNIST test attack data\n",
    "test_data_file_noise = open(\"desktop/mnist_dataset/mnist_test_noise.csv\", 'r')\n",
    "test_data_list_noise = test_data_file_noise.readlines()\n",
    "test_data_file_noise.close()\n",
    "#get the first test record from the standard training set\n",
    "all_values_noise = test_data_list_noise[0].split(',')\n",
    "print(all_values_noise[0])\n",
    "image_array = numpy.asfarray(all_values_noise[1:]).reshape((28,28))\n",
    "matplotlib.pyplot.imshow(image_array, cmap='Greys', interpolation='None')"
   ]
  },
  {
   "cell_type": "code",
   "execution_count": null,
   "id": "b0412886",
   "metadata": {},
   "outputs": [],
   "source": []
  }
 ],
 "metadata": {
  "kernelspec": {
   "display_name": "Python 3 (ipykernel)",
   "language": "python",
   "name": "python3"
  },
  "language_info": {
   "codemirror_mode": {
    "name": "ipython",
    "version": 3
   },
   "file_extension": ".py",
   "mimetype": "text/x-python",
   "name": "python",
   "nbconvert_exporter": "python",
   "pygments_lexer": "ipython3",
   "version": "3.10.9"
  }
 },
 "nbformat": 4,
 "nbformat_minor": 5
}
